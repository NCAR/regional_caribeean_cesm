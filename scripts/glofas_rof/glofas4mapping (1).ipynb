{
 "cells": [
  {
   "cell_type": "code",
   "execution_count": null,
   "id": "66987201-60f4-4eaf-baff-12cb96b60f42",
   "metadata": {},
   "outputs": [],
   "source": [
    "# in this code we take the glofas data (after concatenating, i.e. running glofas_concat.ipynb)\n",
    "# and prepare the dataset to run the cime mapping files for cesm.\n",
    "# We are using the JRA55 runoff as the base format.\n",
    "\n",
    "#JRA example data file: /glade/p/cesmdata/cseg/inputdata/lnd/dlnd7/JRA55/JRA.v1.1.runoff.2016.170807.nc\n",
    "\n",
    "# Dimensions: bnds: 2latitude: 720longitude: 1440time: 365\n",
    "# Coordinates:\n",
    "# time (time) object 2016-01-01 12:00:00 ... 2016-12-...\n",
    "# longitude (longitude) float64 0.125 0.375 0.625 ... 359.6 359.9\n",
    "# latitude (latitude) float64 -89.88 -89.62 ... 89.62 89.88\n",
    "# Data variables:\n",
    "# rofl (time, latitude, longitude) float32 ...   (kg/m2/sec)\n",
    "# time_bnds (time, bnds) object ...\n",
    "# rofi (time, latitude, longitude) float32...\n",
    "\n",
    "# a few key things to do: make sure units are the same, eliminate upstream area from Glofas."
   ]
  },
  {
   "cell_type": "code",
   "execution_count": 1,
   "id": "1d457fc6-f809-4823-a1a7-ca8950d4d4bb",
   "metadata": {},
   "outputs": [
    {
     "name": "stdout",
     "output_type": "stream",
     "text": [
      "<xarray.Dataset>\n",
      "Dimensions:     (latitude: 502, longitude: 1402, time: 5479)\n",
      "Coordinates:\n",
      "  * time        (time) datetime64[ns] 2000-01-01 2000-01-02 ... 2014-12-31\n",
      "    step        timedelta64[ns] ...\n",
      "    surface     float64 ...\n",
      "  * latitude    (latitude) float64 40.05 39.95 39.85 ... -9.85 -9.95 -10.05\n",
      "  * longitude   (longitude) float64 -110.1 -110.0 -109.9 ... 29.85 29.95 30.05\n",
      "    valid_time  (time) datetime64[ns] ...\n",
      "Data variables:\n",
      "    dis24       (time, latitude, longitude) float32 ...\n",
      "Attributes:\n",
      "    GRIB_edition:            2\n",
      "    GRIB_centre:             ecmf\n",
      "    GRIB_centreDescription:  European Centre for Medium-Range Weather Forecasts\n",
      "    GRIB_subCentre:          0\n",
      "    Conventions:             CF-1.7\n",
      "    institution:             European Centre for Medium-Range Weather Forecasts\n",
      "    history:                 2022-07-12T14:00 GRIB to CDM+CF via cfgrib-0.9.1...\n"
     ]
    }
   ],
   "source": [
    "import xarray as xr\n",
    "import numpy as np\n",
    "\n",
    "ds = xr.open_dataset('/glade/work/gseijo/GloFAS/GloFAS_2000_2014.nc')\n",
    "print(ds)"
   ]
  },
  {
   "cell_type": "code",
   "execution_count": 2,
   "id": "df740f44-963e-4c9e-8ade-5ba9edd90b56",
   "metadata": {},
   "outputs": [],
   "source": [
    "#subset to a region slightly larger than Carib domain for efficiency\n",
    "glofas = ds.rename({'latitude':'lat','longitude':'lon'})\n",
    "subset = dict(lat=slice(35, -7), lon=slice(-110, -34))\n",
    "glofas = glofas.sel(**subset)\n",
    "glofas['lon'] = glofas['lon'] % 360\n",
    "glofas= glofas.sortby(glofas.lon)\n",
    "\n",
    "uparea = xr.open_dataarray('/glade/work/gseijo/python_codes/rivers/upArea.nc').sel(**subset)\n",
    "uparea['lon'] = uparea['lon'] % 360\n",
    "uparea = uparea.sortby(uparea.lon)\n"
   ]
  },
  {
   "cell_type": "code",
   "execution_count": 3,
   "id": "20094352-e458-4d19-b0af-b6b022f71147",
   "metadata": {},
   "outputs": [],
   "source": [
    "# change runoff units:\n",
    "# Convert m3/s to kg/m2/s\n",
    "# Borrowed from https://xgcm.readthedocs.io/en/latest/xgcm-examples/05_autogenerate.html\n",
    "distance_1deg_equator = 111000.0\n",
    "dlon = dlat = 0.1  # GloFAS grid spacing\n",
    "dx = dlon * xr.ufuncs.cos(xr.ufuncs.deg2rad(glofas.lat)) * distance_1deg_equator\n",
    "dy = ((glofas.lon * 0) + 1) * dlat * distance_1deg_equator\n",
    "glofas_area = dx * dy\n",
    "glofas_rof = glofas.dis24 * 1000.0 / glofas_area\n",
    "#glofas_rof[0,:,:].plot()"
   ]
  },
  {
   "cell_type": "code",
   "execution_count": 4,
   "id": "663117e1-14c3-4d08-bb37-db2c1d0d5f85",
   "metadata": {},
   "outputs": [],
   "source": [
    "#generate land/ocean mask (runoff = nan in ocean, values in land). We want 0 for land, 1 for ocean.\n",
    "land_ocean_mask = np.zeros(np.shape(glofas_rof[0,:,:]))\n",
    "xx, yy = np.shape(land_ocean_mask)\n",
    "for x in range(xx):\n",
    "    for y in range(yy):\n",
    "        if glofas_rof[0,x,y]>=0:\n",
    "            land_ocean_mask[x,y]=0\n",
    "        elif np.isnan(glofas_rof[0,x,y]):\n",
    "            land_ocean_mask[x,y]=1\n",
    "#plt.pcolormesh(glofas.lon,glofas.lat,land_ocean_mask)"
   ]
  },
  {
   "cell_type": "code",
   "execution_count": null,
   "id": "82de302f-48de-4f80-9991-50a630a9ff8b",
   "metadata": {},
   "outputs": [],
   "source": [
    "# Find river end points by looking for local maxima in upstream area (method by J. Simikins)\n",
    "uparea = uparea.fillna(0).values\n",
    "points = np.zeros_like(uparea)\n",
    "window = 2  # look with +- this number of grid points\n",
    "ni, nj = uparea.shape\n",
    "for i in range(window, ni-window):\n",
    "    for j in range(window, nj-window):\n",
    "        sub = uparea[i-window:i+window+1, j-window:j+window+1]\n",
    "        point = uparea[i, j]\n",
    "        # A river end point has a reasonably large upstream area\n",
    "        # and is a local maximum\n",
    "        if point > 1e6 and sub.max() == point:\n",
    "            points[i, j] = 1\n",
    "glofas_mask = points\n",
    "glofas_rof = glofas_rof.where(glofas_mask > 0).fillna(0.0)"
   ]
  },
  {
   "cell_type": "code",
   "execution_count": 9,
   "id": "26d9391b-8331-48c2-8e11-2d0dc7cf1c94",
   "metadata": {},
   "outputs": [
    {
     "name": "stdout",
     "output_type": "stream",
     "text": [
      "<xarray.Dataset>\n",
      "Dimensions:          (latitude: 420, longitude: 760, time: 5479)\n",
      "Coordinates:\n",
      "  * time             (time) float64 0.0 1.0 2.0 ... 5.477e+03 5.478e+03\n",
      "  * latitude         (latitude) float64 34.95 34.85 34.75 ... -6.75 -6.85 -6.95\n",
      "  * longitude        (longitude) float64 250.0 250.1 250.2 ... 325.7 325.8 325.9\n",
      "Data variables:\n",
      "    runoff           (time, latitude, longitude) float64 0.0 0.0 0.0 ... 0.0 0.0\n",
      "    land_ocean_mask  (latitude, longitude) float64 0.0 0.0 0.0 ... 1.0 1.0 1.0\n"
     ]
    }
   ],
   "source": [
    "#create dataset with correct structure and save\n",
    "ds_new = xr.Dataset({\n",
    "    'runoff':(['time','latitude','longitude'],glofas_rof),\n",
    "    'land_ocean_mask':(['latitude','longitude'],land_ocean_mask)},\n",
    "    coords={'time': glofas['time'].data,'latitude':glofas['lat'].data,'longitude':glofas['lon'].data})\n",
    "\n",
    "# Drop '_FillValue' from all variables when writing out\n",
    "all_vars = list(ds_new.data_vars.keys()) + list(ds_new.coords.keys())\n",
    "encodings = {v: {'_FillValue': 1.0e20} for v in all_vars}\n",
    "\n",
    "# Make sure time has the right units and datatype\n",
    "# otherwise it will become an int and MOM will fail. \n",
    "attrsT = { 'standard_name': 'time',\n",
    "             'long_name': 'time',\n",
    "             'axis': \"T\",\n",
    "             'units' : \"days since 2000-01-01 00:00:00\",\n",
    "             'calendar' : \"gregorian\"}\n",
    "\n",
    "ds_new['time'] = np.linspace(0,len(ds_new.time)-1,len(ds_new.time)) \n",
    "ds_new.time.attrs = attrsT\n",
    "ds_new['latitude'].attrs = {'units': 'degrees_north'}\n",
    "ds_new['longitude'].attrs = {'units': 'degrees_east'}\n",
    "ds_new['runoff'].attrs = {'units': 'kg m-2 s-1'}\n",
    "\n",
    "print(ds_new)\n",
    "ds_new.to_netcdf('/glade/work/gseijo/GloFAS/GloFAS_2000_2014_cesm.nc',encoding=encodings,unlimited_dims='time')"
   ]
  },
  {
   "cell_type": "code",
   "execution_count": 24,
   "id": "765352df-163a-4a0d-8900-5b0f9ee2cbfa",
   "metadata": {
    "tags": []
   },
   "outputs": [
    {
     "name": "stdout",
     "output_type": "stream",
     "text": [
      "<xarray.Dataset>\n",
      "Dimensions:          (latitude: 420, longitude: 760, time: 1)\n",
      "Coordinates:\n",
      "  * time             (time) float64 0.0\n",
      "  * latitude         (latitude) float64 34.95 34.85 34.75 ... -6.75 -6.85 -6.95\n",
      "  * longitude        (longitude) float64 250.0 250.1 250.2 ... 325.7 325.8 325.9\n",
      "Data variables:\n",
      "    runoff           (time, latitude, longitude) float64 0.0 0.0 0.0 ... 0.0 0.0\n",
      "    land_ocean_mask  (latitude, longitude) float64 0.0 0.0 0.0 ... 1.0 1.0 1.0\n",
      "    mask             (latitude, longitude) float64 0.0 0.0 0.0 ... 0.0 0.0 0.0\n"
     ]
    }
   ],
   "source": [
    "#create a similar file for mapping purposes (need to create a mask and only need one tstep)\n",
    "# example file:\n",
    "#     <xarray.Dataset>\n",
    "# Dimensions:    (bnds: 2, latitude: 720, longitude: 1440, time: 1)\n",
    "# Coordinates:\n",
    "#   * time       (time) object 1988-07-02 12:00:00\n",
    "#   * longitude  (longitude) float64 0.125 0.375 0.625 0.875 ... 359.4 359.6 359.9\n",
    "#   * latitude   (latitude) float64 -89.88 -89.62 -89.38 ... 89.38 89.62 89.88\n",
    "# Dimensions without coordinates: bnds\n",
    "# Data variables:\n",
    "#     rofl       (time, latitude, longitude) float32 ...\n",
    "#     rofi       (time, latitude, longitude) float32 ...\n",
    "#     time_bnds  (time, bnds) object ...\n",
    "#     mask       (latitude, longitude) float64 ...\n",
    "# Attributes:\n",
    "#     title:                     JRA-55 based river runoff data\n",
    "#     Source:                    Tsujino et al., 2017. JRA-55 Based Surface Dat...\n",
    "#     Conventions:               CF1.0\n",
    "#     history:                   Wed Feb 13 10:56:25 2019: ncra JRA.v1.4.runoff...\n",
    "#     notes:                     JRA-55 runoff data (v1.4) reformatted for use ...\n",
    "#     NCO:                       netCDF Operators version 4.7.4 (http://nco.sf....\n",
    "#     nco_openmp_thread_number:  1\n",
    "\n",
    "#define region of Caribbean domain:\n",
    "carib = xr.open_dataset('/glade/work/gseijo/caribbean_cesm/scripts/ocean_hgrid.nc')\n",
    "minlat = carib.y[0,0]\n",
    "maxlat = carib.y[-1,0]\n",
    "minlon = carib.x[0,0] % 360\n",
    "maxlon = carib.x[0,-1] % 360\n",
    "\n",
    "mask = np.zeros(np.shape(glofas_rof[0,:,:]))\n",
    "for i in range (0,len(ds_new.longitude)-1):\n",
    "    for j in range (0,len(ds_new.latitude)-1):\n",
    "        if ds_new.longitude[i] >= minlon and ds_new.longitude[i]<= maxlon and ds_new.latitude[j]>= minlat and ds_new.latitude[j]<= maxlat: \n",
    "            mask[j,i] = 1\n",
    "        else:\n",
    "            mask[j,i] = 0\n",
    "\n",
    "\n",
    "ds_masked = xr.Dataset({\n",
    "    'runoff':(['time','latitude','longitude'],(glofas.dis24[0:1,:,:] * 1000.0 / glofas_area).where(glofas_mask > 0).fillna(0.0)),\n",
    "    'land_ocean_mask':(['latitude','longitude'],land_ocean_mask),\n",
    "    'mask':(['latitude','longitude'],mask)},\n",
    "    coords={'time':glofas['time'][0:1].data,'latitude':glofas['lat'].data,'longitude':glofas['lon'].data})\n",
    "\n",
    "# Drop '_FillValue' from all variables when writing out\n",
    "all_vars = list(ds_masked.data_vars.keys()) + list(ds_new.coords.keys())\n",
    "encodings = {v: {'_FillValue': None} for v in all_vars}\n",
    "\n",
    "\n",
    "encodings['time'].update({\n",
    "'units': \"days since 2000-01-01 00:00:00\",\n",
    "'dtype': float, \n",
    "'calendar': 'gregorian'\n",
    "})\n",
    "ds_masked['time'] = np.linspace(0,len(ds_masked.time)-1,len(ds_masked.time)) \n",
    "ds_masked['time'].attrs = {'cartesian_axis': 'T'}\n",
    "ds_masked['latitude'].attrs = {'units': 'degrees_north'}\n",
    "ds_masked['longitude'].attrs = {'units': 'degrees_east'}\n",
    "ds_masked['runoff'].attrs = {'units': 'kg m-2 s-1'}\n",
    "\n",
    "print(ds_masked)   \n",
    "ds_masked.to_netcdf('/glade/work/gseijo/GloFAS/glofas_runoff_masked.nc')"
   ]
  },
  {
   "cell_type": "code",
   "execution_count": null,
   "id": "1420f856-a2b3-48a6-999a-4330be25bf8e",
   "metadata": {},
   "outputs": [],
   "source": []
  }
 ],
 "metadata": {
  "kernelspec": {
   "display_name": "Python [conda env:miniconda3-gridTools]",
   "language": "python",
   "name": "conda-env-miniconda3-gridTools-py"
  },
  "language_info": {
   "codemirror_mode": {
    "name": "ipython",
    "version": 3
   },
   "file_extension": ".py",
   "mimetype": "text/x-python",
   "name": "python",
   "nbconvert_exporter": "python",
   "pygments_lexer": "ipython3",
   "version": "3.7.12"
  }
 },
 "nbformat": 4,
 "nbformat_minor": 5
}
